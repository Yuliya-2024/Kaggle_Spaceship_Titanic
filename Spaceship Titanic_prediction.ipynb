{
 "cells": [
  {
   "cell_type": "code",
   "execution_count": 387,
   "id": "49ce5824",
   "metadata": {},
   "outputs": [],
   "source": [
    "import pandas as pd\n",
    "import numpy as np\n",
    "\n",
    "from scipy.stats import randint\n",
    "\n",
    "from sklearn import preprocessing\n",
    "from sklearn.preprocessing import LabelEncoder, StandardScaler\n",
    "\n",
    "from sklearn.metrics import accuracy_score, confusion_matrix, classification_report\n",
    "from sklearn.model_selection import train_test_split, RandomizedSearchCV, GridSearchCV\n",
    "\n",
    "#classifier models (to predict categorical feature)\n",
    "from sklearn.linear_model import LogisticRegression, Lasso\n",
    "from sklearn.tree import DecisionTreeClassifier\n",
    "from sklearn.ensemble import RandomForestClassifier, GradientBoostingClassifier\n",
    "from sklearn.neighbors import KNeighborsClassifier\n",
    "from sklearn.svm import SVC"
   ]
  },
  {
   "cell_type": "markdown",
   "id": "0175664e",
   "metadata": {},
   "source": [
    "# Data"
   ]
  },
  {
   "cell_type": "code",
   "execution_count": 395,
   "id": "238f89f5",
   "metadata": {},
   "outputs": [
    {
     "name": "stdout",
     "output_type": "stream",
     "text": [
      "(8594, 18)\n"
     ]
    },
    {
     "data": {
      "text/html": [
       "<div>\n",
       "<style scoped>\n",
       "    .dataframe tbody tr th:only-of-type {\n",
       "        vertical-align: middle;\n",
       "    }\n",
       "\n",
       "    .dataframe tbody tr th {\n",
       "        vertical-align: top;\n",
       "    }\n",
       "\n",
       "    .dataframe thead th {\n",
       "        text-align: right;\n",
       "    }\n",
       "</style>\n",
       "<table border=\"1\" class=\"dataframe\">\n",
       "  <thead>\n",
       "    <tr style=\"text-align: right;\">\n",
       "      <th></th>\n",
       "      <th>Passenger_trav_group</th>\n",
       "      <th>PassengerId_in_group</th>\n",
       "      <th>HomePlanet</th>\n",
       "      <th>CryoSleep</th>\n",
       "      <th>Deck_num</th>\n",
       "      <th>Room_num</th>\n",
       "      <th>Bord_side</th>\n",
       "      <th>Destination</th>\n",
       "      <th>Age</th>\n",
       "      <th>VIP</th>\n",
       "      <th>RoomService</th>\n",
       "      <th>FoodCourt</th>\n",
       "      <th>ShoppingMall</th>\n",
       "      <th>Spa</th>\n",
       "      <th>VRDeck</th>\n",
       "      <th>First_name</th>\n",
       "      <th>Last_name</th>\n",
       "      <th>Transported</th>\n",
       "    </tr>\n",
       "  </thead>\n",
       "  <tbody>\n",
       "    <tr>\n",
       "      <th>0</th>\n",
       "      <td>1</td>\n",
       "      <td>1</td>\n",
       "      <td>Earth</td>\n",
       "      <td>False</td>\n",
       "      <td>B</td>\n",
       "      <td>0</td>\n",
       "      <td>left</td>\n",
       "      <td>TRAPPIST-1e</td>\n",
       "      <td>39</td>\n",
       "      <td>False</td>\n",
       "      <td>0</td>\n",
       "      <td>0</td>\n",
       "      <td>0</td>\n",
       "      <td>0</td>\n",
       "      <td>0</td>\n",
       "      <td>Maham</td>\n",
       "      <td>Ofracculy</td>\n",
       "      <td>False</td>\n",
       "    </tr>\n",
       "  </tbody>\n",
       "</table>\n",
       "</div>"
      ],
      "text/plain": [
       "   Passenger_trav_group  PassengerId_in_group HomePlanet  CryoSleep Deck_num  \\\n",
       "0                     1                     1      Earth      False        B   \n",
       "\n",
       "   Room_num Bord_side  Destination  Age    VIP  RoomService  FoodCourt  \\\n",
       "0         0      left  TRAPPIST-1e   39  False            0          0   \n",
       "\n",
       "   ShoppingMall  Spa  VRDeck First_name  Last_name  Transported  \n",
       "0             0    0       0      Maham  Ofracculy        False  "
      ]
     },
     "execution_count": 395,
     "metadata": {},
     "output_type": "execute_result"
    }
   ],
   "source": [
    "train_data = pd.read_csv('data/prep_train_data.csv')\n",
    "print(train_data.shape)\n",
    "train_data.head(1)"
   ]
  },
  {
   "cell_type": "code",
   "execution_count": 396,
   "id": "504bd350",
   "metadata": {},
   "outputs": [
    {
     "name": "stdout",
     "output_type": "stream",
     "text": [
      "(4214, 17)\n"
     ]
    },
    {
     "data": {
      "text/html": [
       "<div>\n",
       "<style scoped>\n",
       "    .dataframe tbody tr th:only-of-type {\n",
       "        vertical-align: middle;\n",
       "    }\n",
       "\n",
       "    .dataframe tbody tr th {\n",
       "        vertical-align: top;\n",
       "    }\n",
       "\n",
       "    .dataframe thead th {\n",
       "        text-align: right;\n",
       "    }\n",
       "</style>\n",
       "<table border=\"1\" class=\"dataframe\">\n",
       "  <thead>\n",
       "    <tr style=\"text-align: right;\">\n",
       "      <th></th>\n",
       "      <th>Passenger_trav_group</th>\n",
       "      <th>PassengerId_in_group</th>\n",
       "      <th>HomePlanet</th>\n",
       "      <th>CryoSleep</th>\n",
       "      <th>Deck_num</th>\n",
       "      <th>Room_num</th>\n",
       "      <th>Bord_side</th>\n",
       "      <th>Destination</th>\n",
       "      <th>Age</th>\n",
       "      <th>VIP</th>\n",
       "      <th>RoomService</th>\n",
       "      <th>FoodCourt</th>\n",
       "      <th>ShoppingMall</th>\n",
       "      <th>Spa</th>\n",
       "      <th>VRDeck</th>\n",
       "      <th>First_name</th>\n",
       "      <th>Last_name</th>\n",
       "    </tr>\n",
       "  </thead>\n",
       "  <tbody>\n",
       "    <tr>\n",
       "      <th>0</th>\n",
       "      <td>13</td>\n",
       "      <td>1</td>\n",
       "      <td>Earth</td>\n",
       "      <td>True</td>\n",
       "      <td>G</td>\n",
       "      <td>3</td>\n",
       "      <td>right</td>\n",
       "      <td>TRAPPIST-1e</td>\n",
       "      <td>27</td>\n",
       "      <td>False</td>\n",
       "      <td>0</td>\n",
       "      <td>0</td>\n",
       "      <td>0</td>\n",
       "      <td>0</td>\n",
       "      <td>0</td>\n",
       "      <td>Nelly</td>\n",
       "      <td>Carsoning</td>\n",
       "    </tr>\n",
       "  </tbody>\n",
       "</table>\n",
       "</div>"
      ],
      "text/plain": [
       "   Passenger_trav_group  PassengerId_in_group HomePlanet  CryoSleep Deck_num  \\\n",
       "0                    13                     1      Earth       True        G   \n",
       "\n",
       "   Room_num Bord_side  Destination  Age    VIP  RoomService  FoodCourt  \\\n",
       "0         3     right  TRAPPIST-1e   27  False            0          0   \n",
       "\n",
       "   ShoppingMall  Spa  VRDeck First_name  Last_name  \n",
       "0             0    0       0      Nelly  Carsoning  "
      ]
     },
     "execution_count": 396,
     "metadata": {},
     "output_type": "execute_result"
    }
   ],
   "source": [
    "test_data = pd.read_csv('data/prep_test_data.csv')\n",
    "print(test_data.shape)\n",
    "test_data.head(1)"
   ]
  },
  {
   "cell_type": "code",
   "execution_count": 397,
   "id": "8071af61",
   "metadata": {},
   "outputs": [
    {
     "name": "stdout",
     "output_type": "stream",
     "text": [
      "(4277, 2)\n"
     ]
    },
    {
     "data": {
      "text/html": [
       "<div>\n",
       "<style scoped>\n",
       "    .dataframe tbody tr th:only-of-type {\n",
       "        vertical-align: middle;\n",
       "    }\n",
       "\n",
       "    .dataframe tbody tr th {\n",
       "        vertical-align: top;\n",
       "    }\n",
       "\n",
       "    .dataframe thead th {\n",
       "        text-align: right;\n",
       "    }\n",
       "</style>\n",
       "<table border=\"1\" class=\"dataframe\">\n",
       "  <thead>\n",
       "    <tr style=\"text-align: right;\">\n",
       "      <th></th>\n",
       "      <th>PassengerId</th>\n",
       "      <th>Transported</th>\n",
       "    </tr>\n",
       "  </thead>\n",
       "  <tbody>\n",
       "    <tr>\n",
       "      <th>0</th>\n",
       "      <td>0013_01</td>\n",
       "      <td>False</td>\n",
       "    </tr>\n",
       "  </tbody>\n",
       "</table>\n",
       "</div>"
      ],
      "text/plain": [
       "  PassengerId  Transported\n",
       "0     0013_01        False"
      ]
     },
     "execution_count": 397,
     "metadata": {},
     "output_type": "execute_result"
    }
   ],
   "source": [
    "to_check_model = pd.read_csv('data/sample_submission.csv')\n",
    "print(to_check_model.shape)\n",
    "to_check_model.head(1)"
   ]
  },
  {
   "cell_type": "markdown",
   "id": "af265c56",
   "metadata": {},
   "source": [
    "# Supervised Prediction Models"
   ]
  },
  {
   "cell_type": "code",
   "execution_count": 398,
   "id": "5083f457",
   "metadata": {},
   "outputs": [],
   "source": [
    "# ENCODING\n",
    "\n",
    "enc_train_data = train_data.copy()\n",
    "enc_train_data[['HomePlanet','CryoSleep',\n",
    "                'Deck_num','Bord_side',\n",
    "                'Destination','VIP',\n",
    "                'First_name','Last_name']] = enc_train_data[['HomePlanet','CryoSleep',\n",
    "                                                             'Deck_num','Bord_side',\n",
    "                                                             'Destination','VIP',\n",
    "                                                             'First_name','Last_name']].apply(LabelEncoder().fit_transform)\n",
    "# data preparing for classifier models\n",
    "enc_train_data['RoomService'] = enc_train_data['RoomService'].apply(lambda x: 1 if int(x) > 0 else 0)\n",
    "enc_train_data['FoodCourt'] = enc_train_data['FoodCourt'].apply(lambda x: 1 if int(x) > 0 else 0)\n",
    "enc_train_data['ShoppingMall'] = enc_train_data['ShoppingMall'].apply(lambda x: 1 if int(x) > 0 else 0)\n",
    "enc_train_data['Spa'] = enc_train_data['Spa'].apply(lambda x: 1 if int(x) > 0 else 0)\n",
    "enc_train_data['VRDeck'] = enc_train_data['VRDeck'].apply(lambda x: 1 if int(x) > 0 else 0)\n",
    "\n",
    "\n",
    "enc_test_data = test_data.copy()\n",
    "enc_test_data[['HomePlanet','CryoSleep',\n",
    "                'Deck_num','Bord_side',\n",
    "                'Destination','VIP',\n",
    "                'First_name','Last_name']] = enc_test_data[['HomePlanet','CryoSleep',\n",
    "                                                             'Deck_num','Bord_side',\n",
    "                                                             'Destination','VIP',\n",
    "                                                             'First_name','Last_name']].apply(LabelEncoder().fit_transform)\n",
    "\n",
    "# data preparing for classifier models\n",
    "enc_test_data['RoomService'] = enc_test_data['RoomService'].apply(lambda x: 1 if int(x) > 0 else 0)\n",
    "enc_test_data['FoodCourt'] = enc_test_data['FoodCourt'].apply(lambda x: 1 if int(x) > 0 else 0)\n",
    "enc_test_data['ShoppingMall'] = enc_test_data['ShoppingMall'].apply(lambda x: 1 if int(x) > 0 else 0)\n",
    "enc_test_data['Spa'] = enc_test_data['Spa'].apply(lambda x: 1 if int(x) > 0 else 0)\n",
    "enc_test_data['VRDeck'] = enc_test_data['VRDeck'].apply(lambda x: 1 if int(x) > 0 else 0)"
   ]
  },
  {
   "cell_type": "code",
   "execution_count": 399,
   "id": "96a71c0b",
   "metadata": {
    "scrolled": false
   },
   "outputs": [
    {
     "name": "stdout",
     "output_type": "stream",
     "text": [
      "0.5655266224785385\n"
     ]
    },
    {
     "data": {
      "text/html": [
       "<div>\n",
       "<style scoped>\n",
       "    .dataframe tbody tr th:only-of-type {\n",
       "        vertical-align: middle;\n",
       "    }\n",
       "\n",
       "    .dataframe tbody tr th {\n",
       "        vertical-align: top;\n",
       "    }\n",
       "\n",
       "    .dataframe thead th {\n",
       "        text-align: right;\n",
       "    }\n",
       "</style>\n",
       "<table border=\"1\" class=\"dataframe\">\n",
       "  <thead>\n",
       "    <tr style=\"text-align: right;\">\n",
       "      <th></th>\n",
       "      <th>feature</th>\n",
       "      <th>correlation_coef</th>\n",
       "      <th>predicted_lasso_coef</th>\n",
       "    </tr>\n",
       "  </thead>\n",
       "  <tbody>\n",
       "    <tr>\n",
       "      <th>0</th>\n",
       "      <td>Passenger_trav_group</td>\n",
       "      <td>0.021298</td>\n",
       "      <td>0.000017</td>\n",
       "    </tr>\n",
       "    <tr>\n",
       "      <th>1</th>\n",
       "      <td>PassengerId_in_group</td>\n",
       "      <td>0.066190</td>\n",
       "      <td>0.000000</td>\n",
       "    </tr>\n",
       "    <tr>\n",
       "      <th>2</th>\n",
       "      <td>HomePlanet</td>\n",
       "      <td>0.020374</td>\n",
       "      <td>0.000000</td>\n",
       "    </tr>\n",
       "    <tr>\n",
       "      <th>3</th>\n",
       "      <td>CryoSleep</td>\n",
       "      <td>0.460333</td>\n",
       "      <td>0.000000</td>\n",
       "    </tr>\n",
       "    <tr>\n",
       "      <th>4</th>\n",
       "      <td>Deck_num</td>\n",
       "      <td>-0.116517</td>\n",
       "      <td>-0.000000</td>\n",
       "    </tr>\n",
       "    <tr>\n",
       "      <th>5</th>\n",
       "      <td>Room_num</td>\n",
       "      <td>-0.045936</td>\n",
       "      <td>-0.000100</td>\n",
       "    </tr>\n",
       "    <tr>\n",
       "      <th>6</th>\n",
       "      <td>Bord_side</td>\n",
       "      <td>0.103711</td>\n",
       "      <td>0.000000</td>\n",
       "    </tr>\n",
       "    <tr>\n",
       "      <th>7</th>\n",
       "      <td>Destination</td>\n",
       "      <td>-0.108414</td>\n",
       "      <td>-0.000000</td>\n",
       "    </tr>\n",
       "    <tr>\n",
       "      <th>8</th>\n",
       "      <td>Age</td>\n",
       "      <td>-0.074940</td>\n",
       "      <td>-0.000000</td>\n",
       "    </tr>\n",
       "    <tr>\n",
       "      <th>9</th>\n",
       "      <td>VIP</td>\n",
       "      <td>-0.037690</td>\n",
       "      <td>-0.000000</td>\n",
       "    </tr>\n",
       "    <tr>\n",
       "      <th>10</th>\n",
       "      <td>RoomService</td>\n",
       "      <td>-0.348664</td>\n",
       "      <td>-0.000000</td>\n",
       "    </tr>\n",
       "    <tr>\n",
       "      <th>11</th>\n",
       "      <td>FoodCourt</td>\n",
       "      <td>-0.240485</td>\n",
       "      <td>-0.000000</td>\n",
       "    </tr>\n",
       "    <tr>\n",
       "      <th>12</th>\n",
       "      <td>ShoppingMall</td>\n",
       "      <td>-0.258722</td>\n",
       "      <td>-0.000000</td>\n",
       "    </tr>\n",
       "    <tr>\n",
       "      <th>13</th>\n",
       "      <td>Spa</td>\n",
       "      <td>-0.342628</td>\n",
       "      <td>-0.000000</td>\n",
       "    </tr>\n",
       "    <tr>\n",
       "      <th>14</th>\n",
       "      <td>VRDeck</td>\n",
       "      <td>-0.327128</td>\n",
       "      <td>-0.000000</td>\n",
       "    </tr>\n",
       "    <tr>\n",
       "      <th>15</th>\n",
       "      <td>First_name</td>\n",
       "      <td>-0.008148</td>\n",
       "      <td>-0.000002</td>\n",
       "    </tr>\n",
       "    <tr>\n",
       "      <th>16</th>\n",
       "      <td>Last_name</td>\n",
       "      <td>0.012611</td>\n",
       "      <td>0.000006</td>\n",
       "    </tr>\n",
       "  </tbody>\n",
       "</table>\n",
       "</div>"
      ],
      "text/plain": [
       "                 feature  correlation_coef  predicted_lasso_coef\n",
       "0   Passenger_trav_group          0.021298              0.000017\n",
       "1   PassengerId_in_group          0.066190              0.000000\n",
       "2             HomePlanet          0.020374              0.000000\n",
       "3              CryoSleep          0.460333              0.000000\n",
       "4               Deck_num         -0.116517             -0.000000\n",
       "5               Room_num         -0.045936             -0.000100\n",
       "6              Bord_side          0.103711              0.000000\n",
       "7            Destination         -0.108414             -0.000000\n",
       "8                    Age         -0.074940             -0.000000\n",
       "9                    VIP         -0.037690             -0.000000\n",
       "10           RoomService         -0.348664             -0.000000\n",
       "11             FoodCourt         -0.240485             -0.000000\n",
       "12          ShoppingMall         -0.258722             -0.000000\n",
       "13                   Spa         -0.342628             -0.000000\n",
       "14                VRDeck         -0.327128             -0.000000\n",
       "15            First_name         -0.008148             -0.000002\n",
       "16             Last_name          0.012611              0.000006"
      ]
     },
     "execution_count": 399,
     "metadata": {},
     "output_type": "execute_result"
    }
   ],
   "source": [
    "# feature selection researching\n",
    "\n",
    "X = enc_train_data.drop(['Transported'], axis=1)\n",
    "y = enc_train_data['Transported']\n",
    "lasso = Lasso(alpha=1)\n",
    "lasso.fit(X,y)\n",
    "print(clf.intercept_)\n",
    "\n",
    "\n",
    "coef_list = list(lasso.coef_)\n",
    "corr_list = list(enc_train_data.corr()['Transported'].values[:-1])\n",
    "features = list(enc_train_data.corr()['Transported'].index[:-1])\n",
    "\n",
    "f_selection = pd.DataFrame(columns=['feature', 'correlation_coef', 'predicted_lasso_coef'])\n",
    "f_selection['feature'] = features\n",
    "f_selection['correlation_coef'] = corr_list\n",
    "f_selection['predicted_lasso_coef'] = coef_list\n",
    "\n",
    "f_selection\n",
    "\n",
    "#Lasso - not a better model"
   ]
  },
  {
   "cell_type": "code",
   "execution_count": 400,
   "id": "7a98ac4d",
   "metadata": {
    "scrolled": false
   },
   "outputs": [
    {
     "data": {
      "text/html": [
       "<div>\n",
       "<style scoped>\n",
       "    .dataframe tbody tr th:only-of-type {\n",
       "        vertical-align: middle;\n",
       "    }\n",
       "\n",
       "    .dataframe tbody tr th {\n",
       "        vertical-align: top;\n",
       "    }\n",
       "\n",
       "    .dataframe thead th {\n",
       "        text-align: right;\n",
       "    }\n",
       "</style>\n",
       "<table border=\"1\" class=\"dataframe\">\n",
       "  <thead>\n",
       "    <tr style=\"text-align: right;\">\n",
       "      <th></th>\n",
       "      <th>CryoSleep</th>\n",
       "      <th>Deck_num</th>\n",
       "      <th>Bord_side</th>\n",
       "      <th>Destination</th>\n",
       "      <th>RoomService</th>\n",
       "      <th>FoodCourt</th>\n",
       "      <th>ShoppingMall</th>\n",
       "      <th>Spa</th>\n",
       "      <th>VRDeck</th>\n",
       "    </tr>\n",
       "  </thead>\n",
       "  <tbody>\n",
       "    <tr>\n",
       "      <th>0</th>\n",
       "      <td>0</td>\n",
       "      <td>1</td>\n",
       "      <td>0</td>\n",
       "      <td>2</td>\n",
       "      <td>0</td>\n",
       "      <td>0</td>\n",
       "      <td>0</td>\n",
       "      <td>0</td>\n",
       "      <td>0</td>\n",
       "    </tr>\n",
       "    <tr>\n",
       "      <th>1</th>\n",
       "      <td>0</td>\n",
       "      <td>5</td>\n",
       "      <td>1</td>\n",
       "      <td>2</td>\n",
       "      <td>1</td>\n",
       "      <td>1</td>\n",
       "      <td>1</td>\n",
       "      <td>1</td>\n",
       "      <td>1</td>\n",
       "    </tr>\n",
       "    <tr>\n",
       "      <th>2</th>\n",
       "      <td>0</td>\n",
       "      <td>0</td>\n",
       "      <td>1</td>\n",
       "      <td>2</td>\n",
       "      <td>1</td>\n",
       "      <td>1</td>\n",
       "      <td>0</td>\n",
       "      <td>1</td>\n",
       "      <td>1</td>\n",
       "    </tr>\n",
       "  </tbody>\n",
       "</table>\n",
       "</div>"
      ],
      "text/plain": [
       "   CryoSleep  Deck_num  Bord_side  Destination  RoomService  FoodCourt  \\\n",
       "0          0         1          0            2            0          0   \n",
       "1          0         5          1            2            1          1   \n",
       "2          0         0          1            2            1          1   \n",
       "\n",
       "   ShoppingMall  Spa  VRDeck  \n",
       "0             0    0       0  \n",
       "1             1    1       1  \n",
       "2             0    1       1  "
      ]
     },
     "execution_count": 400,
     "metadata": {},
     "output_type": "execute_result"
    }
   ],
   "source": [
    "#drop uninfluenced features\n",
    "X = enc_train_data.drop(['Passenger_trav_group','PassengerId_in_group','HomePlanet','Room_num','Age','VIP',\n",
    "                         'First_name','Last_name','Transported'], axis=1)\n",
    "\n",
    "X.head(3)"
   ]
  },
  {
   "cell_type": "code",
   "execution_count": 401,
   "id": "95c79b96",
   "metadata": {},
   "outputs": [
    {
     "data": {
      "text/plain": [
       "<Axes: >"
      ]
     },
     "execution_count": 401,
     "metadata": {},
     "output_type": "execute_result"
    },
    {
     "data": {
      "image/png": "[encoded data removed]",
      "text/plain": [
       "<Figure size 640x480 with 2 Axes>"
      ]
     },
     "metadata": {},
     "output_type": "display_data"
    }
   ],
   "source": [
    "# multicollinearity test\n",
    "sns.heatmap(X.corr(), cmap=\"YlGnBu\", annot=True)"
   ]
  },
  {
   "cell_type": "code",
   "execution_count": 402,
   "id": "c6257fe0",
   "metadata": {},
   "outputs": [
    {
     "data": {
      "text/html": [
       "<div>\n",
       "<style scoped>\n",
       "    .dataframe tbody tr th:only-of-type {\n",
       "        vertical-align: middle;\n",
       "    }\n",
       "\n",
       "    .dataframe tbody tr th {\n",
       "        vertical-align: top;\n",
       "    }\n",
       "\n",
       "    .dataframe thead th {\n",
       "        text-align: right;\n",
       "    }\n",
       "</style>\n",
       "<table border=\"1\" class=\"dataframe\">\n",
       "  <thead>\n",
       "    <tr style=\"text-align: right;\">\n",
       "      <th></th>\n",
       "      <th>CryoSleep</th>\n",
       "      <th>Deck_num</th>\n",
       "      <th>Bord_side</th>\n",
       "      <th>Destination</th>\n",
       "      <th>service</th>\n",
       "    </tr>\n",
       "  </thead>\n",
       "  <tbody>\n",
       "    <tr>\n",
       "      <th>0</th>\n",
       "      <td>0</td>\n",
       "      <td>1</td>\n",
       "      <td>0</td>\n",
       "      <td>2</td>\n",
       "      <td>0</td>\n",
       "    </tr>\n",
       "    <tr>\n",
       "      <th>1</th>\n",
       "      <td>0</td>\n",
       "      <td>5</td>\n",
       "      <td>1</td>\n",
       "      <td>2</td>\n",
       "      <td>1</td>\n",
       "    </tr>\n",
       "    <tr>\n",
       "      <th>2</th>\n",
       "      <td>0</td>\n",
       "      <td>0</td>\n",
       "      <td>1</td>\n",
       "      <td>2</td>\n",
       "      <td>1</td>\n",
       "    </tr>\n",
       "  </tbody>\n",
       "</table>\n",
       "</div>"
      ],
      "text/plain": [
       "   CryoSleep  Deck_num  Bord_side  Destination  service\n",
       "0          0         1          0            2        0\n",
       "1          0         5          1            2        1\n",
       "2          0         0          1            2        1"
      ]
     },
     "execution_count": 402,
     "metadata": {},
     "output_type": "execute_result"
    }
   ],
   "source": [
    "# multicollinearity problem solve (passenger's service datas)\n",
    "\n",
    "X['service'] = X['RoomService'] + X['FoodCourt'] + X['ShoppingMall'] + X['Spa'] + X['VRDeck']\n",
    "X['service'] = X['service'].apply(lambda x: 1 if x > 0 else 0)\n",
    "X = X.drop(['RoomService','FoodCourt','ShoppingMall','Spa','VRDeck'], axis=1)\n",
    "\n",
    "X.head(3)"
   ]
  },
  {
   "cell_type": "code",
   "execution_count": 403,
   "id": "d2b03855",
   "metadata": {},
   "outputs": [],
   "source": [
    "# spliting\n",
    "X_train, X_test, y_train, y_test = train_test_split(X, y, test_size=0.2)"
   ]
  },
  {
   "cell_type": "markdown",
   "id": "0af9eea8",
   "metadata": {},
   "source": [
    "First model assessment"
   ]
  },
  {
   "cell_type": "code",
   "execution_count": 404,
   "id": "ef39eca4",
   "metadata": {},
   "outputs": [],
   "source": [
    "models_list = [LogisticRegression,\n",
    "               DecisionTreeClassifier, RandomForestClassifier,\n",
    "               GradientBoostingClassifier, KNeighborsClassifier, SVC]\n",
    "model_names_list = ['LogisticRegression',\n",
    "                    'DecisionTreeClassifier', 'RandomForestClassifier',\n",
    "                    'GradientBoostingClassifier', 'KNeighborsClassifier', 'SVC']\n",
    "\n",
    "def prediction_model(sklearn_models=models_list, models_names=model_names_list):    \n",
    "    c=0\n",
    "    for model in sklearn_models:\n",
    "        # model\n",
    "        model = model()\n",
    "\n",
    "        # model fit & predict\n",
    "        model.fit(X_train, y_train)\n",
    "        y_pred = model.predict(X_test)\n",
    "\n",
    "        print(models_names[c])\n",
    "        \n",
    "        # accuracy test\n",
    "        accuracy = accuracy_score(y_test, y_pred)\n",
    "        print('Average model accuracy: ', round(accuracy*100,2), '%')\n",
    "        print()\n",
    "        c+=1"
   ]
  },
  {
   "cell_type": "code",
   "execution_count": 405,
   "id": "455eb887",
   "metadata": {
    "scrolled": false
   },
   "outputs": [
    {
     "name": "stdout",
     "output_type": "stream",
     "text": [
      "LogisticRegression\n",
      "Average model accuracy:  73.41 %\n",
      "\n",
      "DecisionTreeClassifier\n",
      "Average model accuracy:  73.76 %\n",
      "\n",
      "RandomForestClassifier\n",
      "Average model accuracy:  73.88 %\n",
      "\n",
      "GradientBoostingClassifier\n",
      "Average model accuracy:  74.05 %\n",
      "\n",
      "KNeighborsClassifier\n",
      "Average model accuracy:  67.48 %\n",
      "\n",
      "SVC\n",
      "Average model accuracy:  73.53 %\n",
      "\n"
     ]
    }
   ],
   "source": [
    "prediction_model()"
   ]
  },
  {
   "cell_type": "markdown",
   "id": "f96f2e0e",
   "metadata": {},
   "source": [
    "Choosing better models and try to level up accuracy"
   ]
  },
  {
   "cell_type": "code",
   "execution_count": 406,
   "id": "2afb63b8",
   "metadata": {},
   "outputs": [],
   "source": [
    "X_train, X_test, y_train, y_test = train_test_split(X, y, test_size=0.2, random_state=20)"
   ]
  },
  {
   "cell_type": "code",
   "execution_count": 407,
   "id": "1df67c34",
   "metadata": {},
   "outputs": [
    {
     "name": "stdout",
     "output_type": "stream",
     "text": [
      "73.94 %\n"
     ]
    }
   ],
   "source": [
    "# LogisticRegression\n",
    "\n",
    "lr = LogisticRegression(random_state=20)\n",
    "lr.fit(X_train, y_train)\n",
    "y_pred = lr.predict(X_test)\n",
    "accuracy = accuracy_score(y_test, y_pred)\n",
    "print(round(accuracy*100,2),'%')"
   ]
  },
  {
   "cell_type": "code",
   "execution_count": 408,
   "id": "9d4de8db",
   "metadata": {},
   "outputs": [
    {
     "name": "stdout",
     "output_type": "stream",
     "text": [
      "74.99 %\n"
     ]
    }
   ],
   "source": [
    "# DecisionTreeClassifier\n",
    "\n",
    "dtc = DecisionTreeClassifier(max_depth=7, random_state=20)\n",
    "dtc.fit(X_train, y_train)\n",
    "y_pred = dtc.predict(X_test)\n",
    "accuracy = accuracy_score(y_test, y_pred)\n",
    "print(round(accuracy*100,2),'%')"
   ]
  },
  {
   "cell_type": "code",
   "execution_count": 409,
   "id": "9caa9c55",
   "metadata": {},
   "outputs": [
    {
     "name": "stdout",
     "output_type": "stream",
     "text": [
      "{'max_depth': 16, 'n_estimators': 387}\n",
      "74.81 %\n"
     ]
    }
   ],
   "source": [
    "# RandomForestClassifier\n",
    "\n",
    "param_dist = {'n_estimators': randint(5,500),\n",
    "              'max_depth': randint(1,20)}\n",
    "\n",
    "rfc = RandomForestClassifier()\n",
    "rand_search = RandomizedSearchCV(rfc, param_distributions = param_dist, n_iter=5, cv=5)\n",
    "\n",
    "# finding best model parameters\n",
    "rand_search.fit(X_train, y_train)\n",
    "rand_search.best_estimator_\n",
    "best_param = rand_search.best_params_\n",
    "print(best_param)\n",
    "\n",
    "# best params to model\n",
    "rfc = RandomForestClassifier(n_estimators=best_param['n_estimators'], max_depth=best_param['max_depth'], random_state=20)\n",
    "rfc.fit(X_train, y_train)\n",
    "y_pred = rfc.predict(X_test)\n",
    "accuracy = accuracy_score(y_test, y_pred)\n",
    "print(round(accuracy*100,2),'%')"
   ]
  },
  {
   "cell_type": "code",
   "execution_count": 410,
   "id": "30d5fe39",
   "metadata": {},
   "outputs": [
    {
     "name": "stdout",
     "output_type": "stream",
     "text": [
      "74.64 %\n"
     ]
    }
   ],
   "source": [
    "# GradientBoostingClassifier (without finding best params automatically)\n",
    "\n",
    "gbc = GradientBoostingClassifier(n_estimators=100, max_depth=10, random_state=20)\n",
    "gbc.fit(X_train_prep, y_train)\n",
    "y_pred = gbc.predict(X_test_prep)\n",
    "accuracy = accuracy_score(y_test, y_pred)\n",
    "print(round(accuracy*100,2),'%')"
   ]
  },
  {
   "cell_type": "code",
   "execution_count": 411,
   "id": "83c30b59",
   "metadata": {
    "scrolled": true
   },
   "outputs": [
    {
     "name": "stdout",
     "output_type": "stream",
     "text": [
      "73.76 %\n"
     ]
    }
   ],
   "source": [
    "# SVC\n",
    "\n",
    "svc = SVC(kernel='linear')\n",
    "svc.fit(X_train, y_train)\n",
    "y_pred = svc.predict(X_test)\n",
    "accuracy = accuracy_score(y_test, y_pred)\n",
    "print(round(accuracy*100,2),'%')"
   ]
  },
  {
   "cell_type": "markdown",
   "id": "6b23954c",
   "metadata": {},
   "source": [
    "Let's to apply model"
   ]
  },
  {
   "cell_type": "code",
   "execution_count": 412,
   "id": "7dacb69b",
   "metadata": {
    "scrolled": false
   },
   "outputs": [
    {
     "name": "stdout",
     "output_type": "stream",
     "text": [
      "              precision    recall  f1-score   support\n",
      "\n",
      "        True       1.00      0.71      0.83      4214\n",
      "       False       0.00      0.00      0.00         0\n",
      "\n",
      "    accuracy                           0.71      4214\n",
      "   macro avg       0.50      0.36      0.42      4214\n",
      "weighted avg       1.00      0.71      0.83      4214\n",
      "\n"
     ]
    },
    {
     "name": "stderr",
     "output_type": "stream",
     "text": [
      "D:\\Yuliya\\anaconda3\\lib\\site-packages\\sklearn\\base.py:413: UserWarning: X has feature names, but GradientBoostingClassifier was fitted without feature names\n",
      "  warnings.warn(\n",
      "D:\\Yuliya\\anaconda3\\lib\\site-packages\\sklearn\\metrics\\_classification.py:1344: UndefinedMetricWarning: Recall and F-score are ill-defined and being set to 0.0 in labels with no true samples. Use `zero_division` parameter to control this behavior.\n",
      "  _warn_prf(average, modifier, msg_start, len(result))\n",
      "D:\\Yuliya\\anaconda3\\lib\\site-packages\\sklearn\\metrics\\_classification.py:1344: UndefinedMetricWarning: Recall and F-score are ill-defined and being set to 0.0 in labels with no true samples. Use `zero_division` parameter to control this behavior.\n",
      "  _warn_prf(average, modifier, msg_start, len(result))\n",
      "D:\\Yuliya\\anaconda3\\lib\\site-packages\\sklearn\\metrics\\_classification.py:1344: UndefinedMetricWarning: Recall and F-score are ill-defined and being set to 0.0 in labels with no true samples. Use `zero_division` parameter to control this behavior.\n",
      "  _warn_prf(average, modifier, msg_start, len(result))\n"
     ]
    }
   ],
   "source": [
    "# better model - GradientBoostingClassifier\n",
    "\n",
    "X = enc_test_data.drop(['Passenger_trav_group','PassengerId_in_group','HomePlanet','Room_num','Age','VIP',\n",
    "                         'First_name','Last_name'], axis=1)\n",
    "X['service'] = X['RoomService'] + X['FoodCourt'] + X['ShoppingMall'] + X['Spa'] + X['VRDeck']\n",
    "X['service'] = X['service'].apply(lambda x: 1 if x > 0 else 0)\n",
    "X = X.drop(['RoomService','FoodCourt','ShoppingMall','Spa','VRDeck'], axis=1)\n",
    "\n",
    "y_pred = gbc.predict(X)\n",
    "\n",
    "test_data['Transported'] = y_pred\n",
    "\n",
    "# to split train datas\n",
    "to_check_model[['Passenger_trav_group', 'PassengerId_in_group']] = to_check_model['PassengerId'].str.split('_0', \n",
    "                                                                                                           n=1, \n",
    "                                                                                                           expand=True)\n",
    "to_check_model['Passenger_trav_group'] = to_check_model['Passenger_trav_group'].apply(lambda x: int(x))\n",
    "to_check_model['PassengerId_in_group'] = to_check_model['PassengerId_in_group'].apply(lambda x: int(x))\n",
    "\n",
    "# merge 2 sets to check accuracy\n",
    "new_test_data = pd.merge(test_data, to_check_model,  how='left', \n",
    "                         left_on=['Passenger_trav_group', 'PassengerId_in_group'], \n",
    "                         right_on = ['Passenger_trav_group', 'PassengerId_in_group'])\n",
    "\n",
    "new_test_data = new_test_data.rename(columns={'Transported_x':'Transported_model',\n",
    "                                              'Transported_y':'Transported_true'})\n",
    "new_test_data = new_test_data.drop(['PassengerId'], axis=1)\n",
    "\n",
    "# tests\n",
    "print(classification_report(new_test_data['Transported_true'], \n",
    "                            new_test_data['Transported_model'], \n",
    "                            target_names=['True', 'False']))"
   ]
  },
  {
   "cell_type": "markdown",
   "id": "d7268014",
   "metadata": {},
   "source": [
    "I'm choose GradientBoostingClassifier, \n",
    "because DecisionTreeClassifier has a retraining problem on test set and RandomForestClassifier accuracy was just 57%"
   ]
  },
  {
   "cell_type": "markdown",
   "id": "71baf10d",
   "metadata": {},
   "source": [
    "# Losted passengers"
   ]
  },
  {
   "cell_type": "code",
   "execution_count": 426,
   "id": "f028c9de",
   "metadata": {},
   "outputs": [],
   "source": [
    "losted_passengers = new_test_data[new_test_data['Transported_model'] == True]"
   ]
  },
  {
   "cell_type": "code",
   "execution_count": 427,
   "id": "56a143a7",
   "metadata": {},
   "outputs": [],
   "source": [
    "losted_passengers.to_csv('data/losted_passengers.csv', index=False)"
   ]
  },
  {
   "cell_type": "code",
   "execution_count": null,
   "id": "e6548ec1",
   "metadata": {},
   "outputs": [],
   "source": []
  }
 ],
 "metadata": {
  "kernelspec": {
   "display_name": "Python 3 (ipykernel)",
   "language": "python",
   "name": "python3"
  },
  "language_info": {
   "codemirror_mode": {
    "name": "ipython",
    "version": 3
   },
   "file_extension": ".py",
   "mimetype": "text/x-python",
   "name": "python",
   "nbconvert_exporter": "python",
   "pygments_lexer": "ipython3",
   "version": "3.10.9"
  }
 },
 "nbformat": 4,
 "nbformat_minor": 5
}
